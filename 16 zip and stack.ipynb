{
 "cells": [
  {
   "cell_type": "code",
   "execution_count": 3,
   "metadata": {},
   "outputs": [
    {
     "name": "stdout",
     "output_type": "stream",
     "text": [
      "<zip object at 0x000002C707F634C0>\n",
      "((1, 5), (2, 6), (3, 7), (4, 8))\n",
      "()\n"
     ]
    }
   ],
   "source": [
    "a = [1,2,3,4]\n",
    "b = [5,6,7,8]\n",
    "c = [9,10,11]\n",
    "\n",
    "zip1 = zip(a,b) \n",
    "print(zip1) #only display as zip object <zip object at 0x000002C707F5DF00>\n",
    "\n",
    "print(tuple(zip1)) #((1, 5), (2, 6), (3, 7), (4, 8))  - zip can only be displayed this way\n",
    "\n",
    "tuple1 = tuple(zip1)\n",
    "print(tuple1)     # Note: prints ().  "
   ]
  },
  {
   "cell_type": "code",
   "execution_count": 4,
   "metadata": {},
   "outputs": [
    {
     "name": "stdout",
     "output_type": "stream",
     "text": [
      "((1, 9), (2, 10), (3, 11))\n"
     ]
    }
   ],
   "source": [
    "zip2 = zip(a,c)\n",
    "print(tuple(zip2)) # note: zip only zip uptill the lower size -- c only has 3 members."
   ]
  },
  {
   "cell_type": "code",
   "execution_count": 1,
   "metadata": {},
   "outputs": [
    {
     "name": "stdout",
     "output_type": "stream",
     "text": [
      "list(zip1):\n",
      " [(1, 5), (2, 6), (3, 7), (4, 8)]\n",
      "\n",
      "list(zip(a,b)):\n",
      " [(1, 5), (2, 6), (3, 7), (4, 8)]\n",
      "\n",
      "np.array(zip(a,b)):\n",
      " <zip object at 0x0000021C1F9FAFC0>\n",
      "\n",
      "np.array(list(zip(a,b))):\n",
      " [[1 5]\n",
      " [2 6]\n",
      " [3 7]\n",
      " [4 8]]\n"
     ]
    }
   ],
   "source": [
    "# but tuple is troublesome as you cant edit them.\n",
    "a = [1,2,3,4]\n",
    "b = [5,6,7,8]\n",
    "c = [9,10,11]\n",
    "\n",
    "zip1 = zip(a,b) \n",
    "\n",
    "print('list(zip1):\\n',list(zip1))  # note: sometimes prints [].\n",
    "\n",
    "print('\\nlist(zip(a,b)):\\n',list(zip(a,b)))  # printing the list of zip directly, works the best!!\n",
    "\n",
    "import numpy as np\n",
    "print('\\nnp.array(zip(a,b)):\\n',np.array(zip(a,b)))  # prints <zip object at 0x000002C707FF7EC0>, cannot convert to ndarray\n",
    "\n",
    "print('\\nnp.array(list(zip(a,b))):\\n',np.array(list(zip(a,b))))  # have to do this way to convert to ndarray!!"
   ]
  },
  {
   "cell_type": "code",
   "execution_count": 9,
   "metadata": {},
   "outputs": [
    {
     "name": "stdout",
     "output_type": "stream",
     "text": [
      "[[1 2 3 4]\n",
      " [5 6 7 8]]\n",
      "[[1 5]\n",
      " [2 6]\n",
      " [3 7]\n",
      " [4 8]]\n",
      "[[[ 1  5  9]\n",
      "  [ 2  6 10]\n",
      "  [ 3  7 11]\n",
      "  [ 4  8 12]]]\n"
     ]
    }
   ],
   "source": [
    "# if have numpy array, best to use np methods to do concat\n",
    "a = np.array([1,2,3,4])\n",
    "b = np.array([5,6,7,8])\n",
    "c = np.array([9,10,11])\n",
    "\n",
    "x1 = np.stack((a,b),axis=0)\n",
    "print(x1)\n",
    "x2 = np.stack((a,b),axis=1)\n",
    "print(x2)\n",
    "\n",
    "#x1 = np.stack((a,c),axis=0) # shape of a,c different, so cannot stack"
   ]
  },
  {
   "cell_type": "code",
   "execution_count": null,
   "metadata": {},
   "outputs": [],
   "source": []
  }
 ],
 "metadata": {
  "kernelspec": {
   "display_name": "Python 3",
   "language": "python",
   "name": "python3"
  },
  "language_info": {
   "codemirror_mode": {
    "name": "ipython",
    "version": 3
   },
   "file_extension": ".py",
   "mimetype": "text/x-python",
   "name": "python",
   "nbconvert_exporter": "python",
   "pygments_lexer": "ipython3",
   "version": "3.8.5"
  }
 },
 "nbformat": 4,
 "nbformat_minor": 4
}
