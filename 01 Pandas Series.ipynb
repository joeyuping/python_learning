{
 "cells": [
  {
   "cell_type": "code",
   "execution_count": 11,
   "metadata": {},
   "outputs": [
    {
     "data": {
      "text/plain": [
       "0    3\n",
       "1    4\n",
       "2    5\n",
       "3    6\n",
       "dtype: int64"
      ]
     },
     "execution_count": 11,
     "metadata": {},
     "output_type": "execute_result"
    }
   ],
   "source": [
    "import pandas as pd\n",
    "obj = pd.Series([3,4,5,6])  \n",
    "#class pandas.Series(data=None, index=None, dtype=None, name=None, copy=False, fastpath=False)\n",
    "obj"
   ]
  },
  {
   "cell_type": "code",
   "execution_count": 12,
   "metadata": {},
   "outputs": [
    {
     "data": {
      "text/plain": [
       "RangeIndex(start=0, stop=4, step=1)"
      ]
     },
     "execution_count": 12,
     "metadata": {},
     "output_type": "execute_result"
    }
   ],
   "source": [
    "obj.index\n",
    "# see that the default index of series is a rangeindex"
   ]
  },
  {
   "cell_type": "code",
   "execution_count": 19,
   "metadata": {},
   "outputs": [
    {
     "name": "stdout",
     "output_type": "stream",
     "text": [
      "90\n",
      "\n",
      "math       90\n",
      "physics    60\n",
      "dtype: int64\n"
     ]
    }
   ],
   "source": [
    "obj2 = pd.Series([80,90,70,60],['chinese','math','english','physics'])  \n",
    "print(obj2['math'])  # output value\n",
    "print()\n",
    "print(obj2[['math','physics']]) #output a serie (note: not numpy array)"
   ]
  },
  {
   "cell_type": "code",
   "execution_count": 20,
   "metadata": {},
   "outputs": [
    {
     "data": {
      "text/plain": [
       "array([80, 90, 70, 60], dtype=int64)"
      ]
     },
     "execution_count": 20,
     "metadata": {},
     "output_type": "execute_result"
    }
   ],
   "source": [
    "#Pandas 的底層是numpy\n",
    "obj2.values\n",
    "# note that the output is a ndarray. \n",
    "# Series is then basically ndarray but with index."
   ]
  },
  {
   "cell_type": "code",
   "execution_count": 21,
   "metadata": {},
   "outputs": [
    {
     "data": {
      "text/plain": [
       "Index(['chinese', 'math', 'english', 'physics'], dtype='object')"
      ]
     },
     "execution_count": 21,
     "metadata": {},
     "output_type": "execute_result"
    }
   ],
   "source": [
    "obj2.index\n",
    "# index become the customised index"
   ]
  },
  {
   "cell_type": "code",
   "execution_count": 28,
   "metadata": {},
   "outputs": [
    {
     "name": "stdout",
     "output_type": "stream",
     "text": [
      "chinese    80\n",
      "math       90\n",
      "english    70\n",
      "physics    60\n",
      "dtype: int64\n",
      "\n",
      "[160 180 140 120]\n",
      "\n",
      "chinese    160\n",
      "math       180\n",
      "english    140\n",
      "physics    120\n",
      "dtype: int64\n"
     ]
    }
   ],
   "source": [
    "#because background is numpy, so operations for ndarray all works for series:\n",
    "ndarrayobj2 = obj2.values\n",
    "print(obj2)\n",
    "print()\n",
    "print(ndarrayobj2 * 2)\n",
    "print()\n",
    "print(obj2 *2)"
   ]
  },
  {
   "cell_type": "code",
   "execution_count": 27,
   "metadata": {},
   "outputs": [
    {
     "name": "stdout",
     "output_type": "stream",
     "text": [
      "chinese    80\n",
      "math       90\n",
      "english    70\n",
      "physics    60\n",
      "dtype: int64\n",
      "\n",
      "chinese    True\n",
      "math       True\n",
      "english    True\n",
      "physics    True\n",
      "dtype: bool\n",
      "\n",
      "chinese    80\n",
      "math       90\n",
      "english    70\n",
      "physics    60\n",
      "dtype: int64\n"
     ]
    },
    {
     "data": {
      "text/plain": [
       "chinese    80\n",
       "math       90\n",
       "dtype: int64"
      ]
     },
     "execution_count": 27,
     "metadata": {},
     "output_type": "execute_result"
    }
   ],
   "source": [
    "#numpy/series filtering:\n",
    "print(obj2)\n",
    "print()\n",
    "boolValue = obj2 > 4 \n",
    "print(boolValue)\n",
    "print()\n",
    "print(obj2[boolValue])\n",
    "obj2[obj2>70]\n",
    "\n",
    "# since series is able to do everything that ndarray does, but with the benefit of index\n",
    "# we actually use series more than ndarray!"
   ]
  },
  {
   "cell_type": "code",
   "execution_count": 30,
   "metadata": {
    "scrolled": true
   },
   "outputs": [
    {
     "name": "stdout",
     "output_type": "stream",
     "text": [
      "300\n",
      "\n",
      "300\n"
     ]
    }
   ],
   "source": [
    "import numpy as np\n",
    "print(np.sum(ndarrayobj2)) #  \"function\" of numpy package\n",
    "\n",
    "print()\n",
    "\n",
    "print(obj2.sum()) # \"method\" of pandas series  ==> more convenient!"
   ]
  },
  {
   "cell_type": "code",
   "execution_count": 31,
   "metadata": {},
   "outputs": [
    {
     "data": {
      "text/plain": [
       "True"
      ]
     },
     "execution_count": 31,
     "metadata": {},
     "output_type": "execute_result"
    }
   ],
   "source": [
    "# use \"in\" test for presence of an index\n",
    "'chinese' in obj2"
   ]
  },
  {
   "cell_type": "code",
   "execution_count": 33,
   "metadata": {
    "scrolled": true
   },
   "outputs": [
    {
     "data": {
      "text/plain": [
       "台北    35000\n",
       "桃園    12314\n",
       "台中    16000\n",
       "高雄     5000\n",
       "dtype: int64"
      ]
     },
     "execution_count": 33,
     "metadata": {},
     "output_type": "execute_result"
    }
   ],
   "source": [
    "#populate series with dict\n",
    "series3 = pd.Series({'台北':35000,'桃園':12314, '台中':16000, '高雄':5000})\n",
    "series3"
   ]
  },
  {
   "cell_type": "code",
   "execution_count": 39,
   "metadata": {},
   "outputs": [
    {
     "data": {
      "image/png": "[encoded data removed]",
      "text/plain": [
       "<Figure size 432x288 with 1 Axes>"
      ]
     },
     "metadata": {
      "needs_background": "light"
     },
     "output_type": "display_data"
    }
   ],
   "source": [
    "series4 = pd.Series({'Taipei':35000,'Taoyuan':12314, 'Taichung':16000, 'Kaohsiung':5000})\n",
    "values = series4.values\n",
    "index = series4.index\n",
    "\n",
    "import matplotlib.pyplot as plt\n",
    "plt.bar(index, values)\n",
    "plt.show()"
   ]
  },
  {
   "cell_type": "code",
   "execution_count": 46,
   "metadata": {},
   "outputs": [
    {
     "data": {
      "text/plain": [
       "Taipei      35000.0\n",
       "Taichung    16000.0\n",
       "Hualien         NaN\n",
       "dtype: float64"
      ]
     },
     "execution_count": 46,
     "metadata": {},
     "output_type": "execute_result"
    }
   ],
   "source": [
    "# pd.Series can be used as vlookup!\n",
    "    \n",
    "states = ['Taipei','Taichung','Hualien']\n",
    "seriesfiltered = pd.Series(series4, index = states)\n",
    "seriesfiltered\n",
    "# note the output!\n",
    "# index in pd.Series becomes a vlookup argument."
   ]
  },
  {
   "cell_type": "code",
   "execution_count": 51,
   "metadata": {
    "scrolled": true
   },
   "outputs": [
    {
     "name": "stdout",
     "output_type": "stream",
     "text": [
      "Taipei      False\n",
      "Taichung    False\n",
      "Hualien      True\n",
      "dtype: bool\n",
      "Taipei       True\n",
      "Taichung     True\n",
      "Hualien     False\n",
      "dtype: bool\n",
      "\n",
      "Taipei      False\n",
      "Taichung    False\n",
      "Hualien      True\n",
      "dtype: bool\n",
      "Taipei       True\n",
      "Taichung     True\n",
      "Hualien     False\n",
      "dtype: bool\n",
      "\n",
      "Taipei      35000.0\n",
      "Taichung    16000.0\n",
      "dtype: float64\n"
     ]
    }
   ],
   "source": [
    "print(pd.isnull(seriesfiltered)) # function from pandas package\n",
    "print(pd.notnull(seriesfiltered))\n",
    "\n",
    "print()\n",
    "\n",
    "print(seriesfiltered.isnull()) # method of Series object\n",
    "print(seriesfiltered.notnull())\n",
    "\n",
    "print()\n",
    "\n",
    "print(seriesfiltered[seriesfiltered.notnull()]) # combine use notnull/isnull to filter"
   ]
  },
  {
   "cell_type": "code",
   "execution_count": 57,
   "metadata": {},
   "outputs": [
    {
     "name": "stdout",
     "output_type": "stream",
     "text": [
      "縣市\n",
      "縣市人口數\n"
     ]
    },
    {
     "data": {
      "text/plain": [
       "縣市\n",
       "台北    35000\n",
       "桃園    12314\n",
       "台中    16000\n",
       "高雄     5000\n",
       "Name: 縣市人口數, dtype: int64"
      ]
     },
     "execution_count": 57,
     "metadata": {},
     "output_type": "execute_result"
    }
   ],
   "source": [
    "# we can set the \"name\" attribute of Series and its index column\n",
    "series3.index.name = '縣市'\n",
    "series3.name = '縣市人口數'   # name of Series will become the column name when used in a dataframe\n",
    "#note: no such thing as series.values.name as series.values is a numpy array\n",
    "\n",
    "print(series3.index.name)\n",
    "print(series3.name)\n",
    "\n",
    "series3"
   ]
  },
  {
   "cell_type": "code",
   "execution_count": 58,
   "metadata": {},
   "outputs": [],
   "source": [
    "#Data frame is simply a set of series that has the same index\n",
    "#class pandas.DataFrame(data=None, index=None, columns=None, dtype=None, copy=False)"
   ]
  },
  {
   "cell_type": "code",
   "execution_count": 63,
   "metadata": {},
   "outputs": [
    {
     "name": "stdout",
     "output_type": "stream",
     "text": [
      "['\\ufeffCounties', '2001_year', '2002_year', '2003_year', '2004_year', '2005_year', '2006_year', '2007_year', '2008_year', '2009_year', '2010_year', '2011_year', '2012_year', '2013_year', '2014_year', '2015_year', '2016_year', '2017_year', '2018_year', '2019_year', '2020_year', '2021_year']\n",
      "['縣市', '90年_預算數', '91年_預算數', '92年_預算數', '93年_預算數', '94年_預算數', '95年_預算數', '96年_預算數', '97年_預算數', '98年_預算數', '99年_預算數', '100年_預算數', '101年_預算數', '102年_預算數', '103年_預算數', '104年_預算數', '105年_預算數', '106年_預算數', '107年_預算數', '108年_預算數', '109年_預算數', '110年_預算數']\n",
      "['新北市_原臺北縣', '961', '958', '983', '1101', '1101', '1349', '1393', '1793', '1393', '1470', '1545', '1545', '2772', '2098', '1889', '1891', '2283', '1279', '991', '841', '720']\n",
      "['臺北市', '1067', '813', '929', '701', '712', '784', '810', '855', '855', '995', '1000', '860', '1357', '1192', '1222', '1359', '1481', '747', '673', '554', '590']\n",
      "['桃園市_原桃園縣', '500', '473', '392', '499', '500', '613', '633', '633', '633', '633', '633', '720', '924', '823', '696', '1061', '879', '583', '448', '407', '330']\n",
      "['臺中市_99年_預算數後縣市合併', '127', '289', '291', '325', '305', '399', '412', '412', '412', '1120', '1140', '944', '1384', '1270', '1670', '1637', '1972', '650', '599', '528', '450']\n",
      "['臺中縣_98年_預算數前', '263', '1115', '384', '470', '470', '576', '595', '595', '569', '0', '0', '0', '0', '0', '0', '0', '0', '0', '0', '0', '0']\n",
      "['臺南市_99年_預算數後縣市合併', '361', '322', '379', '424', '414', '519', '936', '536', '556', '1050', '1050', '851', '1625', '1217', '1098', '1119', '1321', '632', '654', '531', '517']\n",
      "['臺南縣_98年_預算數前', '403', '326', '906', '412', '750', '505', '521', '401', '401', '0', '0', '0', '0', '0', '0', '0', '0', '0', '0', '0', '0']\n",
      "['高雄市_99年_預算數後縣市合併', '528', '464', '464', '455', '505', '800', '620', '620', '620', '1250', '1250', '1250', '2067', '1346', '1346', '1849', '1618', '788', '693', '602', '503']\n",
      "['高雄縣_98年_預算數前', '216', '407', '377', '450', '450', '551', '569', '591', '591', '0', '0', '0', '0', '0', '0', '0', '0', '0', '0', '0', '0']\n",
      "['宜蘭縣', '201', '171', '166', '186', '186', '228', '235', '235', '235', '255', '255', '255', '371', '307', '391', '352', '468', '154', '174', '151', '160']\n",
      "['新竹縣', '128', '114', '111', '124', '124', '152', '157', '147', '142', '200', '200', '155', '192', '192', '185', '242', '221', '142', '136', '115', '81']\n",
      "['苗栗縣', '528', '144', '140', '157', '157', '192', '198', '158', '153', '255', '150', '145', '181', '181', '214', '225', '255', '117', '110', '96', '91']\n",
      "['彰化縣', '172', '282', '359', '430', '410', '527', '544', '544', '970', '633', '690', '502', '544', '438', '454', '696', '543', '334', '262', '228', '310']\n",
      "['南投縣', '112', '153', '157', '174', '374', '213', '220', '220', '220', '200', '364', '200', '190', '143', '120', '212', '146', '123', '111', '93', '58']\n",
      "['雲林縣', '241', '144', '140', '558', '158', '194', '209', '220', '220', '157', '272', '221', '280', '210', '203', '299', '244', '145', '142', '122', '100']\n",
      "['嘉義縣', '85', '136', '136', '158', '158', '310', '208', '218', '218', '690', '300', '270', '213', '213', '231', '256', '271', '139', '105', '75', '97']\n",
      "['屏東縣', '348', '257', '257', '318', '318', '389', '402', '402', '402', '300', '460', '408', '424', '424', '610', '666', '642', '336', '295', '251', '250']\n",
      "['臺東縣', '169', '103', '100', '112', '112', '138', '142', '142', '142', '272', '250', '225', '256', '258', '260', '274', '310', '84', '99', '89', '49']\n",
      "['花蓮縣', '197.396', '164', '169', '222', '222', '695', '305', '305', '305', '300', '416', '356', '540', '336', '381', '480', '442', '254', '201', '178', '201']\n",
      "['澎湖縣', '129', '153', '154', '323', '173', '212', '219', '219', '219', '460', '271', '284', '321', '182', '170', '266', '187', '130', '126', '108', '60']\n",
      "['基隆市', '105', '92', '89', '100', '100', '123', '127', '127', '127', '200', '179', '163', '234', '203', '203', '261', '260', '106', '104', '100', '106']\n",
      "['新竹市', '124', '137', '137', '153', '153', '187', '193', '193', '193', '367', '245', '203', '223', '119', '119', '195', '168', '95', '93', '78', '68']\n",
      "['嘉義市', '97', '91', '88', '99', '99', '100', '103', '103', '93', '271', '110', '110', '125', '125', '125', '152', '216', '88', '81', '64', '85']\n",
      "['金門縣', '78', '92', '87', '100', '100', '111', '115', '135', '135', '245', '160', '200', '1042', '552', '272', '513', '305', '243', '171', '150', '85']\n",
      "['連江縣', '13', '27', '32', '29', '29', '37', '38', '100', '100', '110', '180', '166', '199', '162', '190', '186', '212', '98', '87', '92', '17']\n",
      "['合計', '7153.396', '7427', '7427', '8080', '8080', '9904', '9904', '9904', '9904', '11433', '11120', '10033', '15464', '11991', '12049', '14191', '14444', '7267', '6355', '5453', '4928']\n"
     ]
    }
   ],
   "source": [
    "import csv\n",
    "import numpy as np\n",
    "import pandas as pd\n",
    "\n",
    "# using with open, after reading will close file automatically\n",
    "with open('D:\\Desktop\\歷年補助各縣市入營輸送經費預算統計表-OPENDATA甄選組甄選科3.csv', encoding='utf8') as file:\n",
    "    rows = csv.reader(file)\n",
    "    for row in rows:\n",
    "        print(row)"
   ]
  },
  {
   "cell_type": "code",
   "execution_count": 76,
   "metadata": {},
   "outputs": [
    {
     "name": "stdout",
     "output_type": "stream",
     "text": [
      "新北市_原臺北縣             961.000\n",
      "臺北市                 1067.000\n",
      "桃園市_原桃園縣             500.000\n",
      "臺中市_99年_預算數後縣市合併     127.000\n",
      "臺中縣_98年_預算數前         263.000\n",
      "臺南市_99年_預算數後縣市合併     361.000\n",
      "臺南縣_98年_預算數前         403.000\n",
      "高雄市_99年_預算數後縣市合併     528.000\n",
      "高雄縣_98年_預算數前         216.000\n",
      "宜蘭縣                  201.000\n",
      "新竹縣                  128.000\n",
      "苗栗縣                  528.000\n",
      "彰化縣                  172.000\n",
      "南投縣                  112.000\n",
      "雲林縣                  241.000\n",
      "嘉義縣                   85.000\n",
      "屏東縣                  348.000\n",
      "臺東縣                  169.000\n",
      "花蓮縣                  197.396\n",
      "澎湖縣                  129.000\n",
      "基隆市                  105.000\n",
      "新竹市                  124.000\n",
      "嘉義市                   97.000\n",
      "金門縣                   78.000\n",
      "連江縣                   13.000\n",
      "dtype: float64\n",
      "7153.396\n"
     ]
    }
   ],
   "source": [
    "#用csv 建立 dictionary --> convert to series\n",
    "members= {}\n",
    "with open('D:\\Desktop\\歷年補助各縣市入營輸送經費預算統計表-OPENDATA甄選組甄選科3.csv', encoding='utf8') as file:\n",
    "    next(file) #skip to next row\n",
    "    next(file) #skip to next row!\n",
    "    rows = csv.reader(file)\n",
    "    for row in rows:\n",
    "        if row[0] != '合計':\n",
    "            members[row[0]] = float(row[1])   #set members[new_key] = new_value\n",
    "members_series = pd.Series(members)\n",
    "print(members_series)\n",
    "print(members_series.sum())"
   ]
  },
  {
   "cell_type": "code",
   "execution_count": 81,
   "metadata": {},
   "outputs": [
    {
     "data": {
      "text/plain": [
       "{'新北市_原臺北縣': 961.0,\n",
       " '臺北市': 1067.0,\n",
       " '桃園市_原桃園縣': 500.0,\n",
       " '臺中市_99年_預算數後縣市合併': 127.0,\n",
       " '臺中縣_98年_預算數前': 263.0,\n",
       " '臺南市_99年_預算數後縣市合併': 361.0,\n",
       " '臺南縣_98年_預算數前': 403.0,\n",
       " '高雄市_99年_預算數後縣市合併': 528.0,\n",
       " '高雄縣_98年_預算數前': 216.0,\n",
       " '宜蘭縣': 201.0,\n",
       " '新竹縣': 128.0,\n",
       " '苗栗縣': 528.0,\n",
       " '彰化縣': 172.0,\n",
       " '南投縣': 112.0,\n",
       " '雲林縣': 241.0,\n",
       " '嘉義縣': 85.0,\n",
       " '屏東縣': 348.0,\n",
       " '臺東縣': 169.0,\n",
       " '花蓮縣': 197.396,\n",
       " '澎湖縣': 129.0,\n",
       " '基隆市': 105.0,\n",
       " '新竹市': 124.0,\n",
       " '嘉義市': 97.0,\n",
       " '金門縣': 78.0,\n",
       " '連江縣': 13.0}"
      ]
     },
     "execution_count": 81,
     "metadata": {},
     "output_type": "execute_result"
    }
   ],
   "source": [
    "# create dictionary using comprehension\n",
    "\n",
    "with open('D:\\Desktop\\歷年補助各縣市入營輸送經費預算統計表-OPENDATA甄選組甄選科3.csv', encoding='utf8') as file:\n",
    "    next(file) #skip to next row\n",
    "    next(file) #skip to next row!\n",
    "    rows = csv.reader(file)\n",
    "    members = {row[0]:float(row[1]) for row in rows if row[0] != '合計'}\n",
    "members"
   ]
  },
  {
   "cell_type": "code",
   "execution_count": null,
   "metadata": {},
   "outputs": [],
   "source": []
  }
 ],
 "metadata": {
  "kernelspec": {
   "display_name": "Python 3",
   "language": "python",
   "name": "python3"
  },
  "language_info": {
   "codemirror_mode": {
    "name": "ipython",
    "version": 3
   },
   "file_extension": ".py",
   "mimetype": "text/x-python",
   "name": "python",
   "nbconvert_exporter": "python",
   "pygments_lexer": "ipython3",
   "version": "3.8.5"
  }
 },
 "nbformat": 4,
 "nbformat_minor": 4
}
