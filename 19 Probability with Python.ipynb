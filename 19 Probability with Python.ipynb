{
 "cells": [
  {
   "cell_type": "markdown",
   "metadata": {},
   "source": [
    "## Permutations and Combinations\n",
    "\n",
    "$ nCr  =  \\frac{n!}{r!\\,(n-r)!} $  \n",
    "\n",
    "$ nPr = \\frac{n!}{(n-r)!} $"
   ]
  },
  {
   "cell_type": "code",
   "execution_count": 21,
   "metadata": {},
   "outputs": [],
   "source": [
    "import math\n",
    "\n",
    "# nCr  =  (n! / r!(nr)!)\n",
    "\n",
    "def nCr(n,r):\n",
    "    return math.factorial(n) / (math.factorial(r) * math.factorial(n-r))\n",
    "\n",
    "\n",
    "# nPr = (n! / (n-r)!)\n",
    "\n",
    "def nPr(n,r):\n",
    "    return math.factorial(n) / math.factorial(n-r)"
   ]
  },
  {
   "cell_type": "markdown",
   "metadata": {},
   "source": [
    "## Binomial distribution 二項分配\n",
    "probability of k successes from n draws with replacement within a population of N with K items having the success feature.\n",
    "p = probability of success = K/N\n",
    "\n",
    "$$ P(X = k) \\, = \\, nCk \\, p^{k} \\cdot (1-p)^{n-k} $$\n",
    "\n",
    "numpy.random.binomial(n ,p ,size)"
   ]
  },
  {
   "cell_type": "code",
   "execution_count": 35,
   "metadata": {},
   "outputs": [
    {
     "name": "stdout",
     "output_type": "stream",
     "text": [
      "P(X=3) =  0.1646090534979424\n",
      "P(X=3) =  0.16495\n"
     ]
    }
   ],
   "source": [
    "# consider bag of 5 red, 10 black. draw 5 with replacement, probability of getting 3 red \n",
    "\n",
    "# calculated value:\n",
    "print('P(X=3) = ',nCr(5,3) * (5/15) ** 3 * (1-5/15) ** (5-3))\n",
    "\n",
    "#experimental value:\n",
    "import numpy.random as nr\n",
    "\n",
    "size = 1000000\n",
    "\n",
    "s = nr.binomial(5,5/15,size)\n",
    "X = sum(s==3)\n",
    "print('P(X=3) = ',X/size)"
   ]
  },
  {
   "cell_type": "markdown",
   "metadata": {},
   "source": [
    "## Hypergeometric distribution 超幾何分配\n",
    "probability of k successes from n draws \"without replacement\" within a population of N with K items having the success feature.\n",
    "\n",
    "$$ P(X = k) = \\frac{^{K}C_{k} \\, \\cdot \\, ^{N-K}C_{n-k}}{^{N}C_{n}} $$\n",
    "\n",
    "numpy.random.hypergeometric(ngood, nbad, nsample, size=None)"
   ]
  },
  {
   "cell_type": "code",
   "execution_count": 50,
   "metadata": {},
   "outputs": [
    {
     "name": "stdout",
     "output_type": "stream",
     "text": [
      "P(X=3) =  0.3687252026910471\n",
      "P(X=3) =  0.369\n"
     ]
    }
   ],
   "source": [
    "# calculated value:\n",
    "\n",
    "prob = nCr(20,3) * nCr(15,2) / nCr(35,5)\n",
    "\n",
    "print('P(X=3) = ', prob)\n",
    "\n",
    "\n",
    "# experimental value:\n",
    "import numpy.random as nr\n",
    "\n",
    "size = 1000\n",
    "\n",
    "s = nr.hypergeometric(20,15,5,size) # (ngood, nbad, nsample, perform how many times) return number of good each time\n",
    "\n",
    "X = sum(s==3) \n",
    "\n",
    "print('P(X=3) = ', X/size)"
   ]
  },
  {
   "cell_type": "code",
   "execution_count": 63,
   "metadata": {},
   "outputs": [
    {
     "data": {
      "image/png": "[encoded data removed]",
      "text/plain": [
       "<Figure size 432x288 with 1 Axes>"
      ]
     },
     "metadata": {
      "needs_background": "light"
     },
     "output_type": "display_data"
    }
   ],
   "source": [
    "import matplotlib.pyplot as plt\n",
    "import numpy as np\n",
    "plt.hist(s,bins=6)\n",
    "plt.axvline(s.mean(),0,1,c='r')\n",
    "plt.show()"
   ]
  },
  {
   "cell_type": "markdown",
   "metadata": {},
   "source": [
    "### when N >> n (n/N < 0.05), hypergeometric distribution approximates to Binomial (with or without replacement doesnt matter), use Binomial is simpler in calculation  "
   ]
  },
  {
   "cell_type": "markdown",
   "metadata": {},
   "source": [
    "## Poisson distribution\n",
    "fix probability of something happening within same time interval. probability of occurences within a certain timeframe\n",
    "The Poisson distribution is the limit of the binomial distribution for large N.\n",
    "\n",
    "$$ f(k; \\lambda)=\\frac{\\lambda^k e^{-\\lambda}}{k!} $$"
   ]
  },
  {
   "cell_type": "code",
   "execution_count": 65,
   "metadata": {},
   "outputs": [
    {
     "name": "stdout",
     "output_type": "stream",
     "text": [
      "[3 2 3 8 2 2 4 6 3 6 4 3 5 1 0 4 4 0 0 5 4 6 1 7 1 2 4 1 3 5 3 2 3 6 4 2 1\n",
      " 5 2 4 3 3 4 2 2 1 2 3 1 2 2 2 2 2 3 6 4 4 1 3 3 2 4 3 0 2 4 6 9 3 4 3 1 2\n",
      " 2 4 4 3 3 6 4 6 2 2 2 1 3 0 2 5 2 2 0 3 3 2 3 2 5 2]\n"
     ]
    },
    {
     "data": {
      "text/plain": [
       "3.02"
      ]
     },
     "execution_count": 65,
     "metadata": {},
     "output_type": "execute_result"
    }
   ],
   "source": [
    "import numpy.random as nr\n",
    "x = nr.poisson(lam=3, size = 100)  # lam = 在目前所設定的固定觀察時段/區間裡，平均出現的次數。x = 在這個同樣區間裡，有可能出現多少個。\n",
    "print(x)\n",
    "\n",
    "x.mean() # should be close to lam"
   ]
  },
  {
   "cell_type": "markdown",
   "metadata": {},
   "source": [
    "## Standard distribution\n",
    "\n",
    "mean = median = most element\n",
    "area under the function represents the probability - integral from a to b\n",
    "\n",
    "$\\pm 1 \\sigma$ ~ 68%  \n",
    "$\\pm 2 \\sigma$ ~ 95%  \n",
    "$\\pm 3 \\sigma$ ~ 99.7%  \n",
    "\n",
    "np.random.normal(mean, std, size)"
   ]
  },
  {
   "cell_type": "code",
   "execution_count": 87,
   "metadata": {},
   "outputs": [
    {
     "data": {
      "text/plain": [
       "[]"
      ]
     },
     "execution_count": 87,
     "metadata": {},
     "output_type": "execute_result"
    },
    {
     "data": {
      "image/png": "[encoded data removed]",
      "text/plain": [
       "<Figure size 432x288 with 1 Axes>"
      ]
     },
     "metadata": {
      "needs_background": "light"
     },
     "output_type": "display_data"
    }
   ],
   "source": [
    "import numpy as np \n",
    "import matplotlib.pyplot as plt\n",
    "\n",
    "x = np.random.normal(5,1,100000) # (mean, std, size)\n",
    "y = np.random.normal(5,2,100000)\n",
    "z = np.random.normal(5,3,100000)\n",
    "\n",
    "plt.hist(x,bins=20, range=[-5,15],alpha=0.3)\n",
    "plt.hist(y,bins=20, range=[-5,15],alpha=0.3)\n",
    "plt.hist(z,bins=20, range=[-5,15],alpha=0.3)\n",
    "plt.axvline(x.mean(),0,1, c='r')\n",
    "plt.plot()"
   ]
  },
  {
   "cell_type": "code",
   "execution_count": 1,
   "metadata": {},
   "outputs": [
    {
     "name": "stdout",
     "output_type": "stream",
     "text": [
      "1.6448536269514722\n",
      "0.9494974165258963\n"
     ]
    }
   ],
   "source": [
    "import scipy.stats as st\n",
    "\n",
    "# 信賴水準 p、常態分配下的面積所對應的Z分數：\n",
    "print(st.norm.ppf(.95))   # ppf - percent point function\n",
    "\n",
    "# Z score get 信賴水準或常態分配下的面積：\n",
    "print(st.norm.cdf(1.64))   # cumulative distribution function"
   ]
  },
  {
   "cell_type": "code",
   "execution_count": null,
   "metadata": {},
   "outputs": [],
   "source": []
  }
 ],
 "metadata": {
  "kernelspec": {
   "display_name": "Python 3",
   "language": "python",
   "name": "python3"
  },
  "language_info": {
   "codemirror_mode": {
    "name": "ipython",
    "version": 3
   },
   "file_extension": ".py",
   "mimetype": "text/x-python",
   "name": "python",
   "nbconvert_exporter": "python",
   "pygments_lexer": "ipython3",
   "version": "3.8.5"
  }
 },
 "nbformat": 4,
 "nbformat_minor": 4
}
